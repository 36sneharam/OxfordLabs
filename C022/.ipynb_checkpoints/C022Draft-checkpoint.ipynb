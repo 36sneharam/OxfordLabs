{
 "cells": [
  {
   "cell_type": "code",
   "execution_count": 11,
   "metadata": {},
   "outputs": [],
   "source": [
    "import numpy as np \n",
    "import matplotlib.pyplot as plt\n",
    "from scipy.misc import derivative as der\n",
    "from scipy.special import eval_hermite as herm"
   ]
  },
  {
   "cell_type": "code",
   "execution_count": 3,
   "metadata": {},
   "outputs": [
    {
     "data": {
      "text/plain": [
       "2.000000000002"
      ]
     },
     "execution_count": 3,
     "metadata": {},
     "output_type": "execute_result"
    }
   ],
   "source": [
    "def f(x):\n",
    "    return x**3 + x**2\n",
    "g = lambda x: x**2\n",
    "der(g, 1.0, dx=1e-6)"
   ]
  },
  {
   "cell_type": "code",
   "execution_count": 4,
   "metadata": {},
   "outputs": [
    {
     "data": {
      "text/plain": [
       "'\\nfunction on right side of equation \\n\\nx array of integration \\n\\nvalue of psi at x0 \\n\\nvalue of dpsi \\n'"
      ]
     },
     "execution_count": 4,
     "metadata": {},
     "output_type": "execute_result"
    }
   ],
   "source": [
    "\"\"\"\n",
    "function on right side of equation \n",
    "\n",
    "x array of integration \n",
    "\n",
    "value of psi at x0 \n",
    "\n",
    "value of dpsi \n",
    "\"\"\""
   ]
  },
  {
   "cell_type": "code",
   "execution_count": 5,
   "metadata": {},
   "outputs": [],
   "source": [
    "f = lambda x: x**2 \n",
    "x = np.linspace(0, 1, 100)\n",
    "psi0 = 1 \n",
    "dpsi0 = 0 \n"
   ]
  },
  {
   "cell_type": "code",
   "execution_count": 187,
   "metadata": {},
   "outputs": [],
   "source": [
    "class ODE:\n",
    "    def __init__(self, f, x, psi0, dpsi0):\n",
    "        self.f = f\n",
    "        self.x = x \n",
    "        self.psi0 = psi0\n",
    "        self.dpsi0 = dpsi0\n",
    "        self.isodd = \"even\"\n",
    "    \n",
    "    #Defining Get Methods \n",
    "    def getf(self):\n",
    "        return self.f\n",
    "    def getx(self):\n",
    "        return self.x\n",
    "    def getpsi0(self):\n",
    "        return self.psi0\n",
    "    def getdpsi0(self):\n",
    "        return self.dpsi0\n",
    "    def getisodd(self):\n",
    "        return self.isodd\n",
    "    \n",
    "    #Define add methods \n",
    "    def addisodd(self, input):\n",
    "        self.isodd = input\n",
    "    \n",
    "    #Defining Functions \n",
    "    def detdx(self):\n",
    "        x = self.getx()\n",
    "        return (x[1]-x[0])\n",
    "    \"\"\"\n",
    "    def isodd(self):\n",
    "        f = self.getf()\n",
    "        testx = []\n",
    "        x = np.random.randint(100)\n",
    "        if f(x) == f(-x):\n",
    "            return \"even\"\n",
    "        elif f(-x) == -f(x):\n",
    "            return \"odd\"\n",
    "        else:\n",
    "            return \"none\"\n",
    "    \"\"\"        \n",
    "    def diff(self, function, x0, dx = 1e-6, n = 1):\n",
    "        return der(function, x0, dx, n)\n",
    "    def psidx(self):\n",
    "        dx = self.detdx()\n",
    "        f = self.getf()\n",
    "        psi0 = self.getpsi0()\n",
    "        dpsi0 = self.getdpsi0()\n",
    "        \n",
    "        if self.getisodd() == 'even':\n",
    "            psidx = psi0 + 0.5*(dx)**2*(f(0)*psi0)+(1/24)*(dx**4)*(self.diff(f, 0, n=2)*psi0+(2*self.diff(f,0)*dpsi0)+f(0)**2*psi0)\n",
    "            #psidx = (1/24)*(dx**4)*(self.diff(f, 0, n=2)*psi0+(2*self.diff(f,0)*dpsi0)+f(0)**2*psi0)\n",
    "        elif self.getisodd() == 'odd':\n",
    "            psidx = dx*dpsi0 + (dx**3)*(1/6)*(f(0)*dpsi0+self.diff(f,0)*psi0)\n",
    "        else:\n",
    "            psidx = \"Error\"\n",
    "        return psidx\n",
    "    def solve_numerov(self):\n",
    "        psi0 = self.getpsi0()\n",
    "        psidx = self.psidx() \n",
    "        psi = [psi0, psidx]\n",
    "        dx = self.detdx()\n",
    "        f = self.getf()\n",
    "        for j in range(1, len(self.x)-1):\n",
    "            A1 = 2+((5/6)*dx**2*f(j*dx))\n",
    "            A2 = (1-((dx**2)/12)*f((j-1)*dx))\n",
    "            A3 = (1-((dx**2)/12)*f((j+1)*dx))\n",
    "            \n",
    "            psi.append((A1*psi[j]-A2*psi[j-1])/A3)\n",
    "        return psi\n",
    "    def plot_sol(self):\n",
    "        x = self.getx()\n",
    "        psi = self.solve_numerov()\n",
    "        plt.plot(x, psi)"
   ]
  },
  {
   "cell_type": "code",
   "execution_count": 10,
   "metadata": {},
   "outputs": [
    {
     "data": {
      "text/plain": [
       "[<matplotlib.lines.Line2D at 0x1dfb44a8ec8>]"
      ]
     },
     "execution_count": 10,
     "metadata": {},
     "output_type": "execute_result"
    },
    {
     "data": {
      "image/png": "[encoded data removed]",
      "text/plain": [
       "<Figure size 432x288 with 1 Axes>"
      ]
     },
     "metadata": {
      "needs_background": "light"
     },
     "output_type": "display_data"
    }
   ],
   "source": [
    "ode = ODE(lambda x: -4, np.linspace(-np.pi, np.pi, 100), 1, 0)\n",
    "(ode.plot_sol())\n",
    "x = np.linspace(-np.pi, np.pi, 100)\n",
    "plt.plot(x, np.cos(2*x))"
   ]
  },
  {
   "cell_type": "code",
   "execution_count": 189,
   "metadata": {},
   "outputs": [],
   "source": [
    "class QMosc:\n",
    "    def __init__(self, dx, x1, n , E):\n",
    "        self.dx = dx\n",
    "        self.x1 = x1\n",
    "        self.n = n \n",
    "        self.E = E\n",
    "    #Defining get methods \n",
    "    \n",
    "    def getdx(self):\n",
    "        return self.dx\n",
    "    def getx1(self):\n",
    "        return self.x1\n",
    "    def getn(self):\n",
    "        return self.n\n",
    "    def getE(self):\n",
    "        return self.E\n",
    "    \n",
    "    def genx(self):\n",
    "        x1 = self.getx1()\n",
    "        dx = self.getdx()\n",
    "        x = np.arange(0, x1, dx)\n",
    "        return x\n",
    "    def normalize(self,list):\n",
    "        return np.divide(list, max(list))\n",
    "    def analytic_solve(self, norm = True):\n",
    "        n = self.getn()\n",
    "        x = self.genx()\n",
    "        Hermite = herm(n, x)\n",
    "        Exp = np.exp(-0.5*np.multiply(x, x))\n",
    "        psi = Hermite*Exp\n",
    "        if norm == True:\n",
    "            return self.normalize(psi)\n",
    "        else:\n",
    "            return psi\n",
    "    def numeric_solve(self, norm = True):\n",
    "        E = self.getE()\n",
    "        x = self.genx()\n",
    "        if self.getn()%2 == 0:\n",
    "            \n",
    "            qmode = ODE(lambda y: y**2-E, x, 1, 0)\n",
    "        else:\n",
    "            \n",
    "            qmode = ODE(lambda y: y**2-E, x, 0, 1)\n",
    "            qmode.addisodd('odd')\n",
    "        if norm == True:\n",
    "            return self.normalize(qmode.solve_numerov())\n",
    "        else:\n",
    "            return self.normalize(qmode.solve_numerov())\n",
    "    def plot_num(self):\n",
    "        xpos = self.genx()\n",
    "        psipos = self.numeric_solve()\n",
    "        xneg = self.genx()*-1\n",
    "        if self.getn()%2 == 0:\n",
    "            psineg = self.numeric_solve()\n",
    "            \n",
    "        else:\n",
    "            psineg = self.numeric_solve()*-1\n",
    "        x = np.concatenate((xpos, xneg), axis = 0)\n",
    "        psi = np.concatenate((psipos, psineg), axis = 0)\n",
    "        plt.plot(x, psi, 'o')\n",
    "        \n",
    "    def plot_an(self):\n",
    "        xpos = self.genx()\n",
    "        xneg = self.genx()*-1\n",
    "        x = np.concatenate((xpos, xneg), axis = 0)\n",
    "        psi = self.analytic_solve\n",
    "        plt.plot(x, psi, 'o')"
   ]
  },
  {
   "cell_type": "code",
   "execution_count": 191,
   "metadata": {},
   "outputs": [
    {
     "data": {
      "image/png": "[encoded data removed]",
      "text/plain": [
       "<Figure size 432x288 with 1 Axes>"
      ]
     },
     "metadata": {
      "needs_background": "light"
     },
     "output_type": "display_data"
    }
   ],
   "source": [
    "qm = QMosc(0.05, 5, 3, 7)\n",
    "qm.plot_num()"
   ]
  },
  {
   "cell_type": "code",
   "execution_count": 194,
   "metadata": {},
   "outputs": [
    {
     "data": {
      "text/plain": [
       "[<matplotlib.lines.Line2D at 0x1dfb9b7ee88>]"
      ]
     },
     "execution_count": 194,
     "metadata": {},
     "output_type": "execute_result"
    },
    {
     "data": {
      "image/png": "[encoded data removed]",
      "text/plain": [
       "<Figure size 432x288 with 1 Axes>"
      ]
     },
     "metadata": {
      "needs_background": "light"
     },
     "output_type": "display_data"
    }
   ],
   "source": [
    "qm = QMosc(0.05, 5, 0, 1)\n",
    "x = qm.genx()\n",
    "an = (qm.analytic_solve())\n",
    "num = qm.numeric_solve()\n",
    "plt.plot(x, an)\n",
    "plt.plot(x, num, '--')"
   ]
  },
  {
   "cell_type": "code",
   "execution_count": 176,
   "metadata": {},
   "outputs": [
    {
     "data": {
      "image/png": "[encoded data removed]",
      "text/plain": [
       "<Figure size 432x288 with 1 Axes>"
      ]
     },
     "metadata": {
      "needs_background": "light"
     },
     "output_type": "display_data"
    }
   ],
   "source": [
    "n = 100\n",
    "x = np.linspace(0, 5, n+1)\n",
    "ode = ODE(lambda y: y**2-5, x, 1, 0)\n",
    "ode.plot_sol()"
   ]
  }
 ],
 "metadata": {
  "kernelspec": {
   "display_name": "Python 3",
   "language": "python",
   "name": "python3"
  },
  "language_info": {
   "codemirror_mode": {
    "name": "ipython",
    "version": 3
   },
   "file_extension": ".py",
   "mimetype": "text/x-python",
   "name": "python",
   "nbconvert_exporter": "python",
   "pygments_lexer": "ipython3",
   "version": "3.7.4"
  }
 },
 "nbformat": 4,
 "nbformat_minor": 2
}
