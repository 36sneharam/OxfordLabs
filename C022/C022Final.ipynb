{
 "cells": [
  {
   "cell_type": "markdown",
   "metadata": {},
   "source": [
    "# C022: Shrodinger's equation for a quantum oscillator "
   ]
  },
  {
   "cell_type": "markdown",
   "metadata": {},
   "source": [
    "**Name: Sneha Ramshanker**\n",
    "\\n \n",
    "**Date: 20th November 2020**\n",
    "\n",
    "The aim of this investigation is to find the numerical solutions to the time-independent schrodinger equation for the quantum harmonic oscillator. "
   ]
  },
  {
   "cell_type": "code",
   "execution_count": 1,
   "metadata": {},
   "outputs": [],
   "source": [
    "import numpy as np \n",
    "import matplotlib.pyplot as plt\n",
    "from scipy.misc import derivative as der\n",
    "from scipy.special import eval_hermite as herm"
   ]
  },
  {
   "cell_type": "markdown",
   "metadata": {},
   "source": [
    "### Defining Classes and Functions"
   ]
  },
  {
   "cell_type": "code",
   "execution_count": 2,
   "metadata": {},
   "outputs": [],
   "source": [
    "class ODE:\n",
    "    \"\"\"\n",
    "    ODE contains are relevent functions related to defining and solving ordinary differential equations in the context of quantum mechanics\n",
    "    \n",
    "    \n",
    "    Input Parameters:\n",
    "    f (Type: Lambda Function) - an ODE function \n",
    "    x (Type: List/Array) - List of x values over which f is defined \n",
    "    psi0 (Type: float/integer) - Value of psi at x = 0 \n",
    "    dpsi0 (Type: float/integer) - Value of first derivative of psi at x = 0 \n",
    "    \n",
    "    Optional Parameters: \n",
    "    isodd (Type: String) - By default it is set to even. It can be set to odd if user wants to. \n",
    "    \"\"\"\n",
    "    def __init__(self, f, x, psi0, dpsi0):\n",
    "        self.f = f\n",
    "        self.x = x \n",
    "        self.psi0 = psi0\n",
    "        self.dpsi0 = dpsi0\n",
    "        self.isodd = \"even\"\n",
    "    \n",
    "    #Defining Get Methods \n",
    "    def getf(self):\n",
    "        return self.f\n",
    "    def getx(self):\n",
    "        return self.x\n",
    "    def getpsi0(self):\n",
    "        return self.psi0\n",
    "    def getdpsi0(self):\n",
    "        return self.dpsi0\n",
    "    def getisodd(self):\n",
    "        return self.isodd\n",
    "    \n",
    "    #Define add methods \n",
    "    def addisodd(self, input):\n",
    "        self.isodd = input #Access to isodd is not private and can be edited using this method \n",
    "    \n",
    "    #Defining Functions \n",
    "    def detdx(self):\n",
    "        \"\"\"\n",
    "        Description: Function determines the spacing given a linearly spaced x list \n",
    "        \n",
    "        Input Parameters: \n",
    "        N/A \n",
    "        \n",
    "        Output Parameters:\n",
    "        Spacing (Type: Float/Integer)\n",
    "        \"\"\"\n",
    "        x = self.getx()\n",
    "        return (x[1]-x[0])  \n",
    "    \n",
    "    def diff(self, function, x0, dx = 1e-6, n = 1):\n",
    "        \"\"\"\n",
    "        Description: Function computes the nth derivative of a function\n",
    "        \n",
    "        Input Parameters:\n",
    "        function (Type: Lambda/user-defined function): function whose derivative is being calculated \n",
    "        x0 (Type: Float/Integer): x point where derivative is calculated \n",
    "        \n",
    "        Optional Parameters: \n",
    "        dx --> More information in scipy manual \n",
    "        n (Type: Integer): function computes the nth derivative (by default n = 1 so first derivative is calculated)\n",
    "        \n",
    "        Output Parameters:\n",
    "        nth derivative (Type: List/Array)\n",
    "        \"\"\"\n",
    "        return der(function, x0, dx, n)\n",
    "    def psidx(self):\n",
    "        \"\"\"\n",
    "        Description: function determines psi(dx) using Taylor expansion. The taylor expansion is separated by whether psi is odd or even. \n",
    "        \n",
    "        Input Parameters:\n",
    "        N/A\n",
    "        \n",
    "        Output Parameters:\n",
    "        psidx (Type: Float/Integer)\n",
    "        \"\"\"\n",
    "        dx = self.detdx()\n",
    "        f = self.getf()\n",
    "        psi0 = self.getpsi0()\n",
    "        dpsi0 = self.getdpsi0()\n",
    "        \n",
    "        if self.getisodd() == 'even':\n",
    "            psidx = psi0 + 0.5*(dx)**2*(f(0)*psi0)+(1/24)*(dx**4)*(self.diff(f, 0, n=2)*psi0+(2*self.diff(f,0)*dpsi0)+f(0)**2*psi0)\n",
    "            #psidx = (1/24)*(dx**4)*(self.diff(f, 0, n=2)*psi0+(2*self.diff(f,0)*dpsi0)+f(0)**2*psi0)\n",
    "        elif self.getisodd() == 'odd':\n",
    "            psidx = dx*dpsi0 + (dx**3)*(1/6)*(f(0)*dpsi0+self.diff(f,0)*psi0)\n",
    "        else:\n",
    "            psidx = \"Error\"\n",
    "        return psidx\n",
    "    def solve_numerov(self):\n",
    "        \"\"\"\n",
    "        Description: solves an ode of the form ddpsi = f*psi using the numerov method. \n",
    "        \n",
    "        Input Parameters: \n",
    "        N/A\n",
    "        \n",
    "        Output Parameters:\n",
    "        psi (Type: List)\n",
    "        \"\"\"\n",
    "        psi0 = self.getpsi0()\n",
    "        psidx = self.psidx() \n",
    "        psi = [psi0, psidx]\n",
    "        dx = self.detdx()\n",
    "        f = self.getf()\n",
    "        for j in range(1, len(self.x)-1):\n",
    "            A1 = 2+((5/6)*dx**2*f(j*dx))\n",
    "            A2 = (1-((dx**2)/12)*f((j-1)*dx))\n",
    "            A3 = (1-((dx**2)/12)*f((j+1)*dx))\n",
    "            \n",
    "            psi.append((A1*psi[j]-A2*psi[j-1])/A3)\n",
    "        return psi\n",
    "    def plosol(self):\n",
    "        \"\"\"\n",
    "        Description: Plots solution obtained using solve_numerov(). \n",
    "        \n",
    "        Input Parameters:\n",
    "        N/A \n",
    "        \n",
    "        Output Parameters:\n",
    "        N/A \n",
    "        \"\"\"\n",
    "        x = self.getx()\n",
    "        psi = self.solve_numerov()\n",
    "        plt.plot(x, psi)"
   ]
  },
  {
   "cell_type": "code",
   "execution_count": 3,
   "metadata": {},
   "outputs": [],
   "source": [
    "class QMosc:\n",
    "    \"\"\"\n",
    "    QMosc contains are relevent functions related to finding solutions for a Quantum Harmonic Oscillator \n",
    "    \n",
    "    Input Parameters:\n",
    "    dx (Type: Float/Integer) - spacing \n",
    "    x1 (Type: Float/Integer) - upper bound for x  \n",
    "    n (Type: integer) - energy level \n",
    "    E (Type: float/integer) - energy of oscillator \n",
    "    \n",
    "    \"\"\"\n",
    "    def __init__(self, dx, x1, n , E):\n",
    "        self.dx = dx\n",
    "        self.x1 = x1\n",
    "        self.n = n \n",
    "        self.E = E\n",
    "        \n",
    "    #Defining get methods \n",
    "    def getdx(self):\n",
    "        return self.dx\n",
    "    def getx1(self):\n",
    "        return self.x1\n",
    "    def getn(self):\n",
    "        return self.n\n",
    "    def getE(self):\n",
    "        return self.E\n",
    "    \n",
    "    #Define change methods \n",
    "    def changeE(self, E):\n",
    "        self.E = E\n",
    "        \n",
    "    #Other methods\n",
    "    def genx(self):\n",
    "        \"\"\"\n",
    "        Description: Generates a x array \n",
    "        \n",
    "        Input Parameters:\n",
    "        N/A\n",
    "        \n",
    "        Output Parameters:\n",
    "        x (Type: Array) Array from 0 to x1 with equal spacing dx \n",
    "        \"\"\"\n",
    "        x1 = self.getx1()\n",
    "        dx = self.getdx()\n",
    "        x = np.arange(0, x1, dx)\n",
    "        return x\n",
    "    def normalize(self,list):\n",
    "        \"\"\"\n",
    "        Description: Normalizes a list \n",
    "        \n",
    "        Input Parameters:\n",
    "        list (Type list): List to be normalized \n",
    "        \n",
    "        Output Parameters:\n",
    "        normalized list \n",
    "        \"\"\"\n",
    "        return np.divide(list, max(list))\n",
    "    def analytic_solve(self, x = 'default' , norm = True):\n",
    "        \"\"\"\n",
    "        Description: Find the Analytical Solution \n",
    "        \n",
    "        Input Parameters:\n",
    "        N/A\n",
    "        \n",
    "        Optional Parameters:\n",
    "        x (Type: String/List): Custom x input if user wants a different range for the ODE. By default the x is set to output of genx()\n",
    "        norm (Type: Bool): Should psi be normalized or not. By default psi is normalized \n",
    "        \n",
    "        Return:\n",
    "        psi (Type: List): Returns analytical solutions psi \n",
    "        \"\"\"\n",
    "        n = self.getn()\n",
    "        if x == 'default':\n",
    "            x = self.genx()\n",
    "        Hermite = herm(n, x) #Using scipy package to determine the Hermite polynomials \n",
    "        Exp = np.exp(-0.5*np.multiply(x, x))\n",
    "        psi = Hermite*Exp\n",
    "        if norm == True:\n",
    "            return self.normalize(psi)\n",
    "        else:\n",
    "            return psi\n",
    "    def numeric_solve(self, norm = True):\n",
    "        \"\"\"\n",
    "        Description : Finding numerical solution of the QM oscillator using numerov method defined in ODE class \n",
    "        \n",
    "        Input Parameters:\n",
    "        N/A\n",
    "        \n",
    "        Optional Parameters:\n",
    "        norm (Type Bool): Should psi be normalized or not. By default psi is normalized. \n",
    "        \n",
    "        Output Parameters:\n",
    "        psi: Numerical solution psi \n",
    "        \"\"\"\n",
    "        E = self.getE()\n",
    "        x = self.genx()\n",
    "        if self.getn()%2 == 0:\n",
    "            \n",
    "            qmode = ODE(lambda y: y**2-E, x, 1, 0) #defining ode where f = x^2 - E \n",
    "        else:\n",
    "            \n",
    "            qmode = ODE(lambda y: y**2-E, x, 0, 1)\n",
    "            qmode.addisodd('odd')\n",
    "        if norm == True:\n",
    "            return self.normalize(qmode.solve_numerov())\n",
    "        else:\n",
    "            return self.normalize(qmode.solve_numerov())\n",
    "    def plot_num(self, scale = 1, marker = 'o', legend = \"Numerical Solution\"):\n",
    "        \"\"\"\n",
    "        Description: Plots the numerical solution \n",
    "        \n",
    "        Input Parameters:\n",
    "        N/A\n",
    "        \n",
    "        Optional Parameters:\n",
    "        scale (Type: Float/Integer): Scale to adjust numerical solution by. By default scale = 1 \n",
    "        marker (Type: String): Marker to plot numerical solution. By default marker = 'o'\n",
    "        legend (Type: String): Legend label to be used on the plot. By defaul label = \"Numerical Solution\"\n",
    "        \n",
    "        Output Parameters:\n",
    "        None\n",
    "        \"\"\"\n",
    "        xpos = self.genx() \n",
    "        psipos = self.numeric_solve()\n",
    "        xneg = self.genx()*-1\n",
    "        if self.getn()%2 == 0: #If psi is even\n",
    "            psineg = self.numeric_solve() \n",
    "            \n",
    "        else: \n",
    "            psineg = self.numeric_solve()*-1  #If psi is odd \n",
    "        x = np.concatenate((xpos, xneg), axis = 0)\n",
    "        psi = np.concatenate((psipos, psineg), axis = 0)\n",
    "        plt.plot(x, psi*scale, marker, label = legend)\n",
    "        plt.legend()\n",
    "        \n",
    "    def plot_an(self, scale=1, marker = '--', legend = \"Analytical Solution\"):\n",
    "        \"\"\"\n",
    "        Description: Plots analytical solution\n",
    "        \n",
    "        Input Parameters: \n",
    "        N/A\n",
    "        \n",
    "        Optional Parameters:\n",
    "        scale (Type: Float/Integer): Scale to adjust numerical solution by. By default scale = 1 \n",
    "        marker (Type: String): Marker to plot numerical solution. By default marker = '--'\n",
    "        legend (Type: String): Legend label to be used on the plot. By defaul label = \"Analytical Solution\"\n",
    "        \n",
    "        Output Parameters:\n",
    "        None\n",
    "        \"\"\"\n",
    "        xpos = self.genx()\n",
    "        xneg = self.genx()*-1\n",
    "        xtot = np.concatenate((xpos, xneg), axis = 0)\n",
    "        psi = self.analytic_solve(x = xtot)\n",
    "        plt.plot(xtot, psi*scale, marker, label = legend)\n",
    "        plt.legend()\n",
    "        \n",
    "    def eigenvalue(self, e0 = 1, step = 0.01):\n",
    "        \"\"\"\n",
    "        Description: Numerically approximates eigenvalue\n",
    "        \n",
    "        Input Parameters: \n",
    "        N/A\n",
    "        \n",
    "        Optional Parameters:\n",
    "        e0 (Type: Float/Integer): Approximate guess of eigenvalue. By default e0 = 1\n",
    "        step (Type: String): Step size to use while scanning for the eigenvalue. By default step = 0.01\n",
    "       \n",
    "        Output Parameters:\n",
    "        Eigenvalue (Type: Float/Integer): Energy of the system in eigenvalue configuration\n",
    "        \"\"\"\n",
    "        self.changeE(e0)\n",
    "        psi = self.numeric_solve()\n",
    "        slopeinit = (psi[-1]-psi[-2])/(self.getdx())\n",
    "        if slopeinit > 0:\n",
    "            slope = slopeinit\n",
    "            while slope > 0: \n",
    "                slope_before = slope \n",
    "                Ecurrent = self.getE()\n",
    "                self.changeE(Ecurrent-step)\n",
    "                psi = self.numeric_solve()\n",
    "                slope = (psi[-1]-psi[-2])/(self.getdx())\n",
    "                if abs(slope) > abs(slope_before): #Checking that the direction of scan is the right direction and if not reverse the direction\n",
    "                    step = step*-1\n",
    "        else:\n",
    "            slope = slopeinit\n",
    "            while slope < 0: \n",
    "                slope_before = slope \n",
    "                Ecurrent = self.getE()\n",
    "                self.changeE(Ecurrent+step)\n",
    "                psi = self.numeric_solve()\n",
    "                slope = (psi[-1]-psi[-2])/(qm.getdx())\n",
    "                if abs(slope) > abs(slope_before):\n",
    "                    step = step*-1\n",
    "        return(self.getE()) "
   ]
  },
  {
   "cell_type": "markdown",
   "metadata": {},
   "source": [
    "### Executing the code "
   ]
  },
  {
   "cell_type": "markdown",
   "metadata": {},
   "source": [
    "Comparing Numerical and Analytic solution of a quantum oscillator with the following parameters: dx = 0.05, x1 = 5, n = 3, energy = 6.99 and Determining closest eigenvalue numerically. "
   ]
  },
  {
   "cell_type": "code",
   "execution_count": 4,
   "metadata": {},
   "outputs": [
    {
     "name": "stderr",
     "output_type": "stream",
     "text": [
      "C:\\Users\\sneha\\Anaconda3\\lib\\site-packages\\ipykernel_launcher.py:73: FutureWarning: elementwise comparison failed; returning scalar instead, but in the future will perform elementwise comparison\n"
     ]
    },
    {
     "name": "stdout",
     "output_type": "stream",
     "text": [
      "6.99\n"
     ]
    },
    {
     "data": {
      "image/png": "[encoded data removed]",
      "text/plain": [
       "<Figure size 432x288 with 1 Axes>"
      ]
     },
     "metadata": {
      "needs_background": "light"
     },
     "output_type": "display_data"
    }
   ],
   "source": [
    "qm = QMosc(0.05,5, 3, 6.99)\n",
    "qm.plot_an(-1, marker = '+')\n",
    "qm.plot_num(1, marker = '.')\n",
    "plt.xlabel('x')\n",
    "plt.ylabel('psi')\n",
    "print(qm.eigenvalue(e0 = 7))"
   ]
  },
  {
   "cell_type": "markdown",
   "metadata": {},
   "source": [
    "Comparing how energy changes how close the numerical solution is to the analytical solution. For n = 0 case, E = 0.95, 1, and 1.05 are evaluated. "
   ]
  },
  {
   "cell_type": "code",
   "execution_count": 17,
   "metadata": {},
   "outputs": [
    {
     "name": "stderr",
     "output_type": "stream",
     "text": [
      "C:\\Users\\sneha\\Anaconda3\\lib\\site-packages\\ipykernel_launcher.py:73: FutureWarning: elementwise comparison failed; returning scalar instead, but in the future will perform elementwise comparison\n"
     ]
    },
    {
     "name": "stdout",
     "output_type": "stream",
     "text": [
      "8.309999999999972\n"
     ]
    },
    {
     "data": {
      "image/png": "[encoded data removed]",
      "text/plain": [
       "<Figure size 432x288 with 1 Axes>"
      ]
     },
     "metadata": {
      "needs_background": "light"
     },
     "output_type": "display_data"
    }
   ],
   "source": [
    "qm = QMosc(0.05,3, 0, 1)\n",
    "qm.plot_an(1, marker = '+')\n",
    "E = [0.9, 1, 1.1]\n",
    "for i in range(0, len(E)):\n",
    "    qm.changeE(E[i])\n",
    "    qm.plot_num(1, marker = '.', legend = \"E = \"+str(E[i]))\n",
    "plt.xlabel('x')\n",
    "plt.ylabel('Psi')\n",
    "print(qm.eigenvalue(e0 = 7))"
   ]
  },
  {
   "cell_type": "code",
   "execution_count": 9,
   "metadata": {},
   "outputs": [
    {
     "data": {
      "image/png": "[encoded data removed]",
      "text/plain": [
       "<Figure size 432x288 with 1 Axes>"
      ]
     },
     "metadata": {
      "needs_background": "light"
     },
     "output_type": "display_data"
    }
   ],
   "source": [
    "n = 6\n",
    "qm = QMosc(0.05, 5, 0, 1)\n",
    "qm.plot_num(1)"
   ]
  }
 ],
 "metadata": {
  "kernelspec": {
   "display_name": "Python 3",
   "language": "python",
   "name": "python3"
  },
  "language_info": {
   "codemirror_mode": {
    "name": "ipython",
    "version": 3
   },
   "file_extension": ".py",
   "mimetype": "text/x-python",
   "name": "python",
   "nbconvert_exporter": "python",
   "pygments_lexer": "ipython3",
   "version": "3.7.4"
  }
 },
 "nbformat": 4,
 "nbformat_minor": 2
}
