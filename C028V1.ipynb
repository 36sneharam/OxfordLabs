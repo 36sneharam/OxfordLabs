{
 "cells": [
  {
   "cell_type": "markdown",
   "metadata": {},
   "source": [
    "# Ising Model "
   ]
  },
  {
   "cell_type": "markdown",
   "metadata": {},
   "source": [
    "**Author**: Sneha Ramshanker <br> **Date**: 13th December 2019 <br> **Version**: 1"
   ]
  },
  {
   "cell_type": "markdown",
   "metadata": {},
   "source": [
    "This is the first attempt at applying the Metropolis algorithm to the 2D Ising Model.\n",
    "\n"
   ]
  },
  {
   "cell_type": "markdown",
   "metadata": {},
   "source": [
    "### Initialization"
   ]
  },
  {
   "cell_type": "markdown",
   "metadata": {},
   "source": [
    "We start with a 30 x 30 array with each element representing a magnet with spin +1 (spin up) or -1 (spin down). We configure the array to be all spin up initially. "
   ]
  },
  {
   "cell_type": "markdown",
   "metadata": {},
   "source": [
    "### Boundary Conditions"
   ]
  },
  {
   "cell_type": "markdown",
   "metadata": {},
   "source": [
    "We are simulating a large lattice so we assume periodic boundary conditions "
   ]
  },
  {
   "cell_type": "markdown",
   "metadata": {},
   "source": [
    "### Sweeping through Lattice "
   ]
  },
  {
   "cell_type": "markdown",
   "metadata": {},
   "source": [
    "We are implementing two methods for sweeping through the lattice"
   ]
  },
  {
   "cell_type": "markdown",
   "metadata": {},
   "source": [
    "1) Selecting sites at random to flip (Each choice represents a step/sweep)"
   ]
  },
  {
   "cell_type": "markdown",
   "metadata": {},
   "source": [
    "2) Going through the lattice systematically (Each choice represents a step and probing through the entire lattice represents a sweep)"
   ]
  },
  {
   "cell_type": "code",
   "execution_count": 12,
   "metadata": {},
   "outputs": [],
   "source": [
    "import numpy as np \n",
    "from numpy.random import *\n",
    "import matplotlib.pyplot as plt \n",
    "import pandas as pd "
   ]
  },
  {
   "cell_type": "code",
   "execution_count": 794,
   "metadata": {},
   "outputs": [],
   "source": [
    "def calcenergy(lat):\n",
    "    \"\"\"\n",
    "    Input Parameters:\n",
    "    loc: list[x,y] - list containing location of current sign \n",
    "    lat: Numpy Array - current lattice configuration\n",
    "    J: float - value of J\n",
    "    B: float - value of magnetic field strength\n",
    "   \n",
    "    Output: \n",
    "    energy: float - total energy of the configuration\n",
    "   \n",
    "    Example use: \n",
    "   \n",
    "    \"\"\" \n",
    "    energy = 0 \n",
    "    #Calculating Energy for non-boundary sites \n",
    "    for x in range(0, len(lat)-1):\n",
    "        for y in range(0, len(lat)-1):\n",
    "            energy = energy+ (-J*(lat[x,y])*(lat[x-1,y]+lat[x+1,y]+lat[x,y-1]+lat[x,y+1])) + (B*lat[x,y]) \n",
    "    \n",
    "    #Calculating Energy for boundary sites \n",
    "    #for x = len(lat)\n",
    "    x = -1 \n",
    "    for y in range(0, len(lat)-1):\n",
    "        energy = energy+ (-J*(lat[x,y])*(lat[x-1,y]+lat[x+1,y]+lat[x,y-1]+lat[x,y+1])) + (B*lat[x,y]) \n",
    "    #for y = len(lat)\n",
    "    y = -1 \n",
    "    for x in range(0, len(lat)-1):\n",
    "        energy = energy+ (-J*(lat[x,y])*(lat[x-1,y]+lat[x+1,y]+lat[x,y-1]+lat[x,y+1])) + (B*lat[x,y]) \n",
    "    #for x and y = len(lat)\n",
    "    x = -1 \n",
    "    y = -1\n",
    "    energy = energy+ (-J*(lat[x,y])*(lat[x-1,y]+lat[x+1,y]+lat[x,y-1]+lat[x,y+1])) + (B*lat[x,y])\n",
    "\n",
    "    return energy\n",
    "def weight(lat):\n",
    "    E = calcenergy(lat)\n",
    "    return np.exp(-E/(k*T))\n",
    "def calcr(lat1, lat2):\n",
    "    return (weight(lat2)/weight(lat1))\n",
    "def flip(lat,x,y):\n",
    "    lat_new = np.copy(lat)\n",
    "    if lat[x,y] == 1:\n",
    "        lat_new[x,y] = -1 \n",
    "    else:\n",
    "        lat_new[x,y] = 1\n",
    "    return lat_new\n",
    "def step(lat1,x,y):\n",
    "    lat2 = flip(lat,x,y)\n",
    "    r = calcr(lat1,lat2)\n",
    "    if (r> 1): \n",
    "        lat1 = np.copy(lat2)\n",
    "    else:\n",
    "        if(rand()<r):\n",
    "            lat1 = np.copy(lat2)\n",
    "    return lat1 \n",
    "def calcmm(lat):\n",
    "    return np.mean(lat)\n",
    "def randlatgen(ArrLen, bias = 0.5):\n",
    "    lat = np.zeros([ArrLen, ArrLen])\n",
    "    for i in range(0, (ArrLen)):\n",
    "        for j in range(0, (ArrLen)):\n",
    "            if (rand()> bias):\n",
    "                lat[i,j] = 1 \n",
    "            else:\n",
    "                lat[i, j] = -1\n",
    "    return lat \n",
    "def seelat(lat):\n",
    "    latcopy = np.copy(lat)\n",
    "    #Converting to plotable numbers \n",
    "    for i in range(0, len(lat)):\n",
    "        for j in range(0, len(lat)):\n",
    "            if lat[i,j] == -1:\n",
    "                latcopy = 0\n",
    "            else:\n",
    "                latcopy = 1 \n",
    "    plt.imshow(lat, cmap='binary')\n",
    " "
   ]
  },
  {
   "cell_type": "markdown",
   "metadata": {},
   "source": [
    "## Implementing Sweep Method 1"
   ]
  },
  {
   "cell_type": "code",
   "execution_count": 764,
   "metadata": {},
   "outputs": [],
   "source": [
    "#Defining Constants \n",
    "global J \n",
    "global B \n",
    "global k \n",
    "global T \n",
    "J = 1\n",
    "B = 0\n",
    "k = 1 \n",
    "T = 4"
   ]
  },
  {
   "cell_type": "code",
   "execution_count": 800,
   "metadata": {},
   "outputs": [
    {
     "name": "stderr",
     "output_type": "stream",
     "text": [
      "C:\\Users\\sneha\\Anaconda3\\lib\\site-packages\\ipykernel_launcher.py:38: RuntimeWarning: divide by zero encountered in double_scalars\n",
      "C:\\Users\\sneha\\Anaconda3\\lib\\site-packages\\ipykernel_launcher.py:40: RuntimeWarning: invalid value encountered in double_scalars\n",
      "C:\\Users\\sneha\\Anaconda3\\lib\\site-packages\\ipykernel_launcher.py:40: RuntimeWarning: divide by zero encountered in double_scalars\n"
     ]
    }
   ],
   "source": [
    "Tlist = np.linspace(0, 2, 100)\n",
    "mm_mean = []\n",
    "for i in range(0, len(Tlist)):\n",
    "    T = Tlist[i]\n",
    "    #Initializing \n",
    "    ArrLen = 10\n",
    "    S = [-1,1]\n",
    "    lat = randlatgen(ArrLen, bias = 0.5) \n",
    "    #lat = np.ones([ArrLen, ArrLen])\n",
    "    N = 2**7\n",
    "    latfreeze = []\n",
    "\n",
    "\n",
    "    #Running Scan\n",
    "    mm = []\n",
    "    for i in range(0, N):\n",
    "        [x,y] = [randint(0,ArrLen),randint(0,ArrLen)]\n",
    "        lat = step(lat,x,y)\n",
    "        mm.append(calcmm(lat))\n",
    "    steps = np.linspace(0,N,N)\n",
    "    mm_mean.append(np.mean(mm))\n",
    "    \"\"\"\n",
    "    #Plotting the graphs \n",
    "    plt.plot(steps, (mm), label = 'example')\n",
    "    plt.xlabel(\"Steps\")\n",
    "    plt.ylabel(\"Magnetic Moment\")\n",
    "    plt.legend(bbox_to_anchor=(1.1,1.05))\n",
    "    \"\"\"\n",
    "    "
   ]
  },
  {
   "cell_type": "code",
   "execution_count": 801,
   "metadata": {},
   "outputs": [
    {
     "data": {
      "text/plain": [
       "[<matplotlib.lines.Line2D at 0x229c14d2748>]"
      ]
     },
     "execution_count": 801,
     "metadata": {},
     "output_type": "execute_result"
    },
    {
     "data": {
      "image/png": "[encoded data removed]",
      "text/plain": [
       "<Figure size 432x288 with 1 Axes>"
      ]
     },
     "metadata": {
      "needs_background": "light"
     },
     "output_type": "display_data"
    }
   ],
   "source": [
    "plt.plot(Tlist, (mm_mean), 'o')"
   ]
  },
  {
   "cell_type": "code",
   "execution_count": 784,
   "metadata": {},
   "outputs": [
    {
     "data": {
      "text/plain": [
       "2.0"
      ]
     },
     "execution_count": 784,
     "metadata": {},
     "output_type": "execute_result"
    }
   ],
   "source": [
    "np.mean([1,2,3])"
   ]
  }
 ],
 "metadata": {
  "kernelspec": {
   "display_name": "Python 3",
   "language": "python",
   "name": "python3"
  },
  "language_info": {
   "codemirror_mode": {
    "name": "ipython",
    "version": 3
   },
   "file_extension": ".py",
   "mimetype": "text/x-python",
   "name": "python",
   "nbconvert_exporter": "python",
   "pygments_lexer": "ipython3",
   "version": "3.7.4"
  }
 },
 "nbformat": 4,
 "nbformat_minor": 2
}
